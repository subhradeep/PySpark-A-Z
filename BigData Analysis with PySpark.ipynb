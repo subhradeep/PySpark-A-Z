{
 "cells": [
  {
   "cell_type": "markdown",
   "metadata": {},
   "source": [
    "## PySpark for BigData Analysis"
   ]
  },
  {
   "cell_type": "markdown",
   "metadata": {},
   "source": [
    "### Import Libraries for Python Spark"
   ]
  },
  {
   "cell_type": "code",
   "execution_count": 1,
   "metadata": {
    "scrolled": true
   },
   "outputs": [],
   "source": [
    "from pyspark import SparkContext\n",
    "\n",
    "from pyspark.sql import SparkSession\n",
    "\n",
    "\n",
    "\n",
    "# Import the library for ALS\n",
    "from pyspark.mllib.recommendation import ALS\n",
    "\n",
    "# Import the library for Logistic Regression\n",
    "from pyspark.mllib.classification import LogisticRegressionWithLBFGS\n",
    "\n",
    "# Import the library for Kmeans\n",
    "from pyspark.mllib.clustering import KMeans\n",
    "\n",
    "\n",
    "#Rating import from Recommendation \n",
    "from pyspark.mllib.recommendation import Rating\n",
    "\n",
    "\n"
   ]
  },
  {
   "cell_type": "markdown",
   "metadata": {},
   "source": [
    "### Initialize Sparkcontext"
   ]
  },
  {
   "cell_type": "code",
   "execution_count": 2,
   "metadata": {},
   "outputs": [],
   "source": [
    "sc = SparkContext()"
   ]
  },
  {
   "cell_type": "markdown",
   "metadata": {},
   "source": [
    "### Methods of Python Spark"
   ]
  },
  {
   "cell_type": "code",
   "execution_count": 3,
   "metadata": {},
   "outputs": [
    {
     "name": "stdout",
     "output_type": "stream",
     "text": [
      "Spark Conext version is : 2.4.5\n",
      "Python Spark Context version is: 3.7\n",
      "PySpark Shell is: local[*]\n"
     ]
    }
   ],
   "source": [
    "print('Spark Conext version is :',sc.version)\n",
    "print('Python Spark Context version is:',sc.pythonVer)\n",
    "print('PySpark Shell is:',sc.master)\n"
   ]
  },
  {
   "cell_type": "code",
   "execution_count": 4,
   "metadata": {},
   "outputs": [],
   "source": [
    "#Use of Pyspark for generating Random Numbers from 1 to 100\n",
    "\n",
    "numb = range(1,100)\n",
    "spark_data = sc.parallelize(numb)\n"
   ]
  },
  {
   "cell_type": "markdown",
   "metadata": {},
   "source": [
    "### Use of Lambda and Map:\n",
    "\n",
    "The map() function in Python returns a list of the results after applying the given function to each item of a given iterable \n",
    "(list, tuple etc.). \n",
    "The general syntax of map() function is map(fun, iter). "
   ]
  },
  {
   "cell_type": "code",
   "execution_count": 5,
   "metadata": {},
   "outputs": [
    {
     "name": "stdout",
     "output_type": "stream",
     "text": [
      "List items are [1, 2, 3, 4, 5, 6, 7, 8, 9, 10]\n",
      "Square of number is : [1, 4, 9, 16, 25, 36, 49, 64, 81, 100]\n"
     ]
    }
   ],
   "source": [
    "my_list = [1,2,3,4,5,6,7,8,9,10]\n",
    "\n",
    "print('List items are',my_list)\n",
    "\n",
    "\n",
    "squared_number = list(map(lambda x:x**2,my_list))\n",
    "\n",
    "print('Square of number is :',squared_number)\n"
   ]
  },
  {
   "cell_type": "markdown",
   "metadata": {},
   "source": [
    "### Use of lambda() with filter()\n",
    "\n",
    "Another function that is used extensively in Python is the filter() function. The filter() function in Python takes in a function and a list as arguments. The general syntax of the filter() function is filter(function, list_of_input)"
   ]
  },
  {
   "cell_type": "code",
   "execution_count": 6,
   "metadata": {},
   "outputs": [
    {
     "name": "stdout",
     "output_type": "stream",
     "text": [
      "My List [10, 21, 31, 40, 51, 60, 72, 80, 93, 101]\n",
      "Filtered list is  [10, 40, 60, 80]\n"
     ]
    }
   ],
   "source": [
    "my_list2 = [10, 21, 31, 40, 51, 60, 72, 80, 93, 101]\n",
    "\n",
    "print('My List',my_list2)\n",
    "\n",
    "filtered_list = list(filter(lambda x:(x%10==0),my_list2))\n",
    "print('Filtered list is ', filtered_list)\n"
   ]
  },
  {
   "cell_type": "markdown",
   "metadata": {},
   "source": [
    "## Programming in PySpark RDD"
   ]
  },
  {
   "cell_type": "code",
   "execution_count": 7,
   "metadata": {},
   "outputs": [
    {
     "name": "stdout",
     "output_type": "stream",
     "text": [
      "<class 'pyspark.rdd.RDD'>\n"
     ]
    }
   ],
   "source": [
    "#Creating of RDD\n",
    "\n",
    "\n",
    "rdd = sc.parallelize(['Spark','is','framework for','bigdata processing'])\n",
    "\n",
    "print(type(rdd))"
   ]
  },
  {
   "cell_type": "code",
   "execution_count": 8,
   "metadata": {},
   "outputs": [
    {
     "data": {
      "text/plain": [
       "pyspark.rdd.RDD"
      ]
     },
     "execution_count": 8,
     "metadata": {},
     "output_type": "execute_result"
    }
   ],
   "source": [
    "rdd = sc.textFile('../PySpark/5000_points.txt')\n",
    "type(rdd)"
   ]
  },
  {
   "cell_type": "markdown",
   "metadata": {},
   "source": [
    "### Partitions - getNumPartitions or define Partitions "
   ]
  },
  {
   "cell_type": "code",
   "execution_count": 9,
   "metadata": {},
   "outputs": [
    {
     "name": "stdout",
     "output_type": "stream",
     "text": [
      "Number of Partitions is 2\n",
      "Minimum Partitions is  5\n"
     ]
    }
   ],
   "source": [
    "print('Number of Partitions is', rdd.getNumPartitions())\n",
    "\n",
    "rdd_part_define = sc.textFile('../PySpark/5000_points.txt',minPartitions=5)\n",
    "print('Minimum Partitions is ',rdd_part_define.getNumPartitions())\n"
   ]
  },
  {
   "cell_type": "markdown",
   "metadata": {},
   "source": [
    "### RDD Operations in PySpark"
   ]
  },
  {
   "cell_type": "markdown",
   "metadata": {},
   "source": [
    "map()-Transformation:\n",
    "\n",
    "Collect() Transformation : \n",
    "\n",
    "            Collect returns all the elements of the dataset as an array.\n",
    "\n",
    "take(N): \n",
    "\n",
    "            Returns N number of elements\n",
    "    \n"
   ]
  },
  {
   "cell_type": "code",
   "execution_count": 10,
   "metadata": {},
   "outputs": [
    {
     "name": "stdout",
     "output_type": "stream",
     "text": [
      "1\n",
      "8\n",
      "27\n",
      "64\n",
      "125\n",
      "216\n",
      "343\n",
      "512\n",
      "729\n",
      "1000\n"
     ]
    }
   ],
   "source": [
    "list2 = [1, 2, 3, 4, 5, 6, 7, 8, 9, 10]\n",
    "numb_rdd = sc.parallelize(list2)\n",
    "cube_rdd = numb_rdd.map(lambda x: x**3)\n",
    "num_squared = cube_rdd.collect()\n",
    "\n",
    "for num in num_squared:\n",
    "    print(num)\n"
   ]
  },
  {
   "cell_type": "markdown",
   "metadata": {},
   "source": [
    "### Reduce by key and collect:\n",
    "    \n",
    "    One of the most popular pair RDD transformations is reduceByKey() which operates on key, value (k,v) pairs and merges the values for each key. "
   ]
  },
  {
   "cell_type": "code",
   "execution_count": 11,
   "metadata": {},
   "outputs": [
    {
     "name": "stdout",
     "output_type": "stream",
     "text": [
      "key has 1 has 2 counts\n",
      "key has 3 has 10 counts\n",
      "key has 4 has 5 counts\n"
     ]
    }
   ],
   "source": [
    "rdd = sc.parallelize([(1,2),(3,4),(3,6),(4,5)])\n",
    "\n",
    "rdd_reduced = rdd.reduceByKey(lambda x,y:x+y)\n",
    "\n",
    "\n",
    "for num in rdd_reduced.collect():\n",
    "    print('key has {} has {} counts'.format(num[0],num[1]))\n",
    "   "
   ]
  },
  {
   "cell_type": "markdown",
   "metadata": {},
   "source": [
    "### SortByKey and Collect\n",
    "Many times it is useful to sort the pair RDD based on the key "
   ]
  },
  {
   "cell_type": "code",
   "execution_count": 12,
   "metadata": {},
   "outputs": [
    {
     "name": "stdout",
     "output_type": "stream",
     "text": [
      "key has 4 has 5 counts\n",
      "key has 3 has 10 counts\n",
      "key has 1 has 2 counts\n"
     ]
    }
   ],
   "source": [
    "rdd_sort = rdd_reduced.sortByKey(ascending=False)\n",
    "\n",
    "for num in rdd_sort.collect():\n",
    "    print('key has {} has {} counts'.format(num[0],num[1]))\n",
    "   "
   ]
  },
  {
   "cell_type": "markdown",
   "metadata": {},
   "source": [
    "### Count by keys "
   ]
  },
  {
   "cell_type": "code",
   "execution_count": 13,
   "metadata": {},
   "outputs": [
    {
     "name": "stdout",
     "output_type": "stream",
     "text": [
      "Number of elements in rdd are : [(1, 2), (3, 4), (3, 6), (4, 5)]\n",
      "Type of total is  <class 'collections.defaultdict'>\n",
      "key is 1 count is  1\n",
      "key is 3 count is  2\n",
      "key is 4 count is  1\n"
     ]
    }
   ],
   "source": [
    "print('Number of elements in rdd are :',rdd.collect())\n",
    "\n",
    "total = rdd.countByKey()\n",
    "\n",
    "print('Type of total is ',type(total))\n",
    "\n",
    "#iterating the count\n",
    "\n",
    "for k,v in total.items():\n",
    "    print('key is',k,'count is ',v )"
   ]
  },
  {
   "cell_type": "markdown",
   "metadata": {},
   "source": [
    "### Base RDD and Transformation of unstructured data\n",
    "\n",
    "<b>flatMap:</b> A flatMap is a transformation operation. It applies to each element of RDD and it returns the result as new RDD. It is similar to Map, but FlatMap allows returning 0, 1 or more elements from map function. In the FlatMap operation, a developer can define his own custom business logic. The same logic will be applied to all the elements of the RDD."
   ]
  },
  {
   "cell_type": "code",
   "execution_count": 14,
   "metadata": {},
   "outputs": [
    {
     "name": "stdout",
     "output_type": "stream",
     "text": [
      "Total number of Words  128576\n"
     ]
    }
   ],
   "source": [
    "#Load the unstructured text file data\n",
    "baseRDD = sc.textFile('../PySpark/Complete_Shakespeare.txt')\n",
    "\n",
    "#Split the words\n",
    "\n",
    "splitRDD = baseRDD.flatMap(lambda x:x.split())\n",
    "\n",
    "#Count the words\n",
    "print('Total number of Words ',splitRDD.count())\n",
    "\n"
   ]
  },
  {
   "cell_type": "markdown",
   "metadata": {},
   "source": [
    "### Remove Stop Words and reduce the dataset"
   ]
  },
  {
   "cell_type": "code",
   "execution_count": 15,
   "metadata": {},
   "outputs": [
    {
     "name": "stdout",
     "output_type": "stream",
     "text": [
      "First 10 result rdd is as follows\n"
     ]
    },
    {
     "data": {
      "text/plain": [
       "[('Project', 9),\n",
       " ('EBook', 1),\n",
       " ('Shakespeare', 12),\n",
       " ('use', 38),\n",
       " ('anyone', 1),\n",
       " ('anywhere', 1),\n",
       " ('restrictions', 1),\n",
       " ('whatsoever.', 1),\n",
       " ('may', 162),\n",
       " ('it,', 74)]"
      ]
     },
     "execution_count": 15,
     "metadata": {},
     "output_type": "execute_result"
    }
   ],
   "source": [
    "stop_words = ['i', 'me', 'my', 'myself', 'we', 'our', 'ours', 'ourselves', 'you', 'your', 'yours', 'yourself', 'yourselves', 'he',\n",
    " 'him', 'his', 'himself', 'she', 'her', 'hers', 'herself', 'it', 'its', 'itself', 'they', 'them', 'their', 'theirs', 'themselves',\n",
    " 'what', 'which', 'who', 'whom', 'this', 'that', 'these', 'those', 'am', 'is', 'are', 'was', 'were', 'be', 'been', 'being', 'have',\n",
    " 'has', 'had', 'having', 'do', 'does', 'did', 'doing', 'a', 'an', 'the', 'and', 'but', 'if', 'or', 'because', 'as', 'until', 'while',\n",
    " 'of', 'at', 'by', 'for', 'with', 'about', 'against', 'between', 'into', 'through', 'during', 'before', 'after', 'above', 'below',\n",
    " 'to', 'from', 'up', 'down', 'in', 'out', 'on', 'off', 'over', 'under', 'again', 'further', 'then', 'once', 'here', 'there', 'when',\n",
    " 'where', 'why', 'how', 'all', 'any', 'both', 'each', 'few', 'more', 'most', 'other', 'some', 'such', 'no', 'nor', 'not', 'only', 'own',\n",
    " 'same', 'so', 'than', 'too', 'very', 'can', 'will', 'just', 'don', 'should', 'now']\n",
    "\n",
    "\n",
    "\n",
    "filter_by_rdd = splitRDD.filter(lambda x: x.lower() not in stop_words)\n",
    "\n",
    "split_rdd_no_stop_words = filter_by_rdd.map(lambda w:(w,1))\n",
    "\n",
    "resultRDD = split_rdd_no_stop_words.reduceByKey(lambda x,y: x+y)\n",
    "\n",
    "print('First 10 result rdd is as follows')\n",
    "\n",
    "resultRDD.take(10)\n"
   ]
  },
  {
   "cell_type": "markdown",
   "metadata": {},
   "source": [
    "### Print Word frequencies"
   ]
  },
  {
   "cell_type": "code",
   "execution_count": 16,
   "metadata": {},
   "outputs": [
    {
     "name": "stdout",
     "output_type": "stream",
     "text": [
      "thou has 650 counts\n",
      "thy has 574 counts\n",
      "shall has 393 counts\n",
      "would has 311 counts\n",
      "good has 295 counts\n",
      "thee has 286 counts\n",
      "love has 273 counts\n",
      "Enter has 269 counts\n",
      "th' has 254 counts\n",
      "make has 225 counts\n"
     ]
    }
   ],
   "source": [
    "#Swap the values\n",
    "resultrdd_swap = resultRDD.map(lambda x:(x[1],x[0]))\n",
    "\n",
    "#Sort the keys in descending order\n",
    "\n",
    "resultrdd_swap_sort = resultrdd_swap.sortByKey(ascending=False)\n",
    "\n",
    "for word in resultrdd_swap_sort.take(10):\n",
    "    print(\"{} has {} counts\". format(word[1], word[0]))\n",
    "\n"
   ]
  },
  {
   "cell_type": "markdown",
   "metadata": {},
   "source": [
    "### RDD to DataFrame\n",
    "\n"
   ]
  },
  {
   "cell_type": "code",
   "execution_count": 17,
   "metadata": {},
   "outputs": [
    {
     "name": "stdout",
     "output_type": "stream",
     "text": [
      "+--------+-----+\n",
      "|    Name|Value|\n",
      "+--------+-----+\n",
      "|    Mona|   20|\n",
      "|Jennifer|   34|\n",
      "|    John|   20|\n",
      "|     Jim|   26|\n",
      "+--------+-----+\n",
      "\n"
     ]
    }
   ],
   "source": [
    "#Creating a Session using getvreate method\n",
    "\n",
    "spark = SparkSession.builder.getOrCreate()\n",
    "\n",
    "\n",
    "sample = ('Mona',20), ('Jennifer',34), ('John',20), ('Jim',26)\n",
    "\n",
    "\n",
    "rdd_list = sc.parallelize(sample)\n",
    "\n",
    "names = ['Name','Value']\n",
    "\n",
    "rdd = spark.createDataFrame(rdd_list,schema=names)\n",
    "\n",
    "rdd.show(10)\n"
   ]
  },
  {
   "cell_type": "markdown",
   "metadata": {},
   "source": [
    "### Loading CSV file into a Dataframe"
   ]
  },
  {
   "cell_type": "code",
   "execution_count": 18,
   "metadata": {},
   "outputs": [
    {
     "name": "stdout",
     "output_type": "stream",
     "text": [
      "Type  <class 'pyspark.sql.dataframe.DataFrame'>\n",
      "+---+---------+--------------+------+-------------+\n",
      "|_c0|person_id|          name|   sex|date of birth|\n",
      "+---+---------+--------------+------+-------------+\n",
      "|  0|      100|Penelope Lewis|female|   1990-08-31|\n",
      "|  1|      101| David Anthony|  male|   1971-10-14|\n",
      "|  2|      102|     Ida Shipp|female|   1962-05-24|\n",
      "|  3|      103|  Joanna Moore|female|   2017-03-10|\n",
      "|  4|      104|Lisandra Ortiz|female|   2020-08-05|\n",
      "+---+---------+--------------+------+-------------+\n",
      "only showing top 5 rows\n",
      "\n"
     ]
    }
   ],
   "source": [
    "people_df  = spark.read.csv('../PySpark/people.csv',header=True,inferSchema=True)\n",
    "print('Type ',type(people_df))\n",
    "people_df.show(5)"
   ]
  },
  {
   "cell_type": "markdown",
   "metadata": {},
   "source": [
    "### Print Schema"
   ]
  },
  {
   "cell_type": "code",
   "execution_count": 19,
   "metadata": {},
   "outputs": [
    {
     "data": {
      "text/plain": [
       "<bound method DataFrame.printSchema of DataFrame[_c0: int, person_id: int, name: string, sex: string, date of birth: string]>"
      ]
     },
     "execution_count": 19,
     "metadata": {},
     "output_type": "execute_result"
    }
   ],
   "source": [
    "people_df.printSchema"
   ]
  },
  {
   "cell_type": "markdown",
   "metadata": {},
   "source": [
    "### Inspecting the Dataframe"
   ]
  },
  {
   "cell_type": "code",
   "execution_count": 20,
   "metadata": {},
   "outputs": [
    {
     "name": "stdout",
     "output_type": "stream",
     "text": [
      "Columns of the datframe are ['_c0', 'person_id', 'name', 'sex', 'date of birth']\n",
      "Length of the columns 5\n",
      "Number of rows 100000\n"
     ]
    }
   ],
   "source": [
    "\n",
    "print('Columns of the datframe are',people_df.columns)\n",
    "print('Length of the columns',len(people_df.columns))\n",
    "print('Number of rows',people_df.count())"
   ]
  },
  {
   "cell_type": "code",
   "execution_count": 21,
   "metadata": {},
   "outputs": [
    {
     "name": "stdout",
     "output_type": "stream",
     "text": [
      "Before removing duplicates,number of rows 100000\n",
      "After duplication removal 99998\n"
     ]
    }
   ],
   "source": [
    "print('Before removing duplicates,number of rows', people_df.count())\n",
    "\n",
    "people_df_name = people_df.select('name','sex','date of birth')\n",
    "people_df_drop_duplicates = people_df_name.dropDuplicates()\n",
    "\n",
    "print('After duplication removal',people_df_drop_duplicates.count())\n",
    "\n"
   ]
  },
  {
   "cell_type": "markdown",
   "metadata": {},
   "source": [
    "### Filter in DataFrame"
   ]
  },
  {
   "cell_type": "code",
   "execution_count": 22,
   "metadata": {},
   "outputs": [
    {
     "name": "stdout",
     "output_type": "stream",
     "text": [
      "Count of male is 49066 and female is 49014\n"
     ]
    }
   ],
   "source": [
    "people_df_male = people_df.filter(people_df.sex=='male')\n",
    "people_df_female = people_df.filter(people_df.sex=='female')\n",
    "\n",
    "print('Count of male is {} and female is {}'.format(people_df_male.count(),people_df_female.count()))"
   ]
  },
  {
   "cell_type": "markdown",
   "metadata": {},
   "source": [
    "### Create Temporary Table "
   ]
  },
  {
   "cell_type": "code",
   "execution_count": 23,
   "metadata": {},
   "outputs": [
    {
     "name": "stdout",
     "output_type": "stream",
     "text": [
      "+---+---------+----------------+------+-------------+\n",
      "|_c0|person_id|            name|   sex|date of birth|\n",
      "+---+---------+----------------+------+-------------+\n",
      "|  0|      100|  Penelope Lewis|female|   1990-08-31|\n",
      "|  1|      101|   David Anthony|  male|   1971-10-14|\n",
      "|  2|      102|       Ida Shipp|female|   1962-05-24|\n",
      "|  3|      103|    Joanna Moore|female|   2017-03-10|\n",
      "|  4|      104|  Lisandra Ortiz|female|   2020-08-05|\n",
      "|  5|      105|   David Simmons|  male|   1999-12-30|\n",
      "|  6|      106|   Edward Hudson|  male|   1983-05-09|\n",
      "|  7|      107|    Albert Jones|  male|   1990-09-13|\n",
      "|  8|      108|Leonard Cavender|  male|   1958-08-08|\n",
      "|  9|      109|  Everett Vadala|  male|   2005-05-24|\n",
      "+---+---------+----------------+------+-------------+\n",
      "only showing top 10 rows\n",
      "\n"
     ]
    }
   ],
   "source": [
    "people_df.createOrReplaceTempView('People') #table name is here People\n",
    "\n",
    "query = 'select * from people'\n",
    "\n",
    "people_query = spark.sql(query) #executing the sql\n",
    "\n",
    "people_query.show(10) #Show 10 rows of the query\n",
    "\n"
   ]
  },
  {
   "cell_type": "markdown",
   "metadata": {},
   "source": [
    "<b> Note :</b> Spark SQL operations generally return DataFrames. This means you can freely mix DataFrames and SQL."
   ]
  },
  {
   "cell_type": "markdown",
   "metadata": {},
   "source": [
    "### Filter in SQL"
   ]
  },
  {
   "cell_type": "code",
   "execution_count": 24,
   "metadata": {},
   "outputs": [
    {
     "name": "stdout",
     "output_type": "stream",
     "text": [
      "Count of Male 49066\n",
      "Count of Female 49014\n"
     ]
    }
   ],
   "source": [
    "people_df_male = spark.sql('select * from people where sex == \"male\"')\n",
    "people_df_female = spark.sql('select * from people where sex == \"female\"')\n",
    "\n",
    "print('Count of Male',people_df_male.count())\n",
    "print('Count of Female',people_df_female.count())"
   ]
  },
  {
   "cell_type": "markdown",
   "metadata": {},
   "source": [
    "### Visualization in Spark"
   ]
  },
  {
   "cell_type": "code",
   "execution_count": 25,
   "metadata": {},
   "outputs": [
    {
     "name": "stdout",
     "output_type": "stream",
     "text": [
      "RDD contents are:\n",
      "+--------+-----+\n",
      "|    Name|Value|\n",
      "+--------+-----+\n",
      "|    Mona|   20|\n",
      "|Jennifer|   34|\n",
      "|    John|   20|\n",
      "|     Jim|   26|\n",
      "+--------+-----+\n",
      "\n"
     ]
    },
    {
     "data": {
      "text/plain": [
       "<matplotlib.axes._subplots.AxesSubplot at 0x2a2b044c388>"
      ]
     },
     "execution_count": 25,
     "metadata": {},
     "output_type": "execute_result"
    },
    {
     "data": {
      "image/png": "[encoded data removed]",
      "text/plain": [
       "<Figure size 432x288 with 1 Axes>"
      ]
     },
     "metadata": {
      "needs_background": "light"
     },
     "output_type": "display_data"
    }
   ],
   "source": [
    "\n",
    "print('RDD contents are:')\n",
    "rdd.show()\n",
    "\n",
    "df_pandas = rdd.toPandas()\n",
    "\n",
    "df_pandas.plot(x='Name',y='Value',kind='barh')\n"
   ]
  },
  {
   "cell_type": "markdown",
   "metadata": {},
   "source": [
    "### Create a dataframe from a CSV File"
   ]
  },
  {
   "cell_type": "code",
   "execution_count": 26,
   "metadata": {},
   "outputs": [
    {
     "data": {
      "text/plain": [
       "17981"
      ]
     },
     "execution_count": 26,
     "metadata": {},
     "output_type": "execute_result"
    }
   ],
   "source": [
    "fifa_df = spark.read.csv('../PySpark/Fifa2018_dataset.csv',header=True,inferSchema=True)\n",
    "\n",
    "fifa_df.count()"
   ]
  },
  {
   "cell_type": "markdown",
   "metadata": {},
   "source": [
    "### SQL Queries on Temporary table"
   ]
  },
  {
   "cell_type": "code",
   "execution_count": 27,
   "metadata": {},
   "outputs": [
    {
     "data": {
      "text/plain": [
       "DataFrame[summary: string, _c0: string, Name: string, Age: string, Photo: string, Nationality: string, Flag: string, Overall: string, Potential: string, Club: string, Club Logo: string, Value: string, Wage: string, Special: string, Acceleration: string, Aggression: string, Agility: string, Balance: string, Ball control: string, Composure: string, Crossing: string, Curve: string, Dribbling: string, Finishing: string, Free kick accuracy: string, GK diving: string, GK handling: string, GK kicking: string, GK positioning: string, GK reflexes: string, Heading accuracy: string, Interceptions: string, Jumping: string, Long passing: string, Long shots: string, Marking: string, Penalties: string, Positioning: string, Reactions: string, Short passing: string, Shot power: string, Sliding tackle: string, Sprint speed: string, Stamina: string, Standing tackle: string, Strength: string, Vision: string, Volleys: string, CAM: string, CB: string, CDM: string, CF: string, CM: string, ID: string, LAM: string, LB: string, LCB: string, LCM: string, LDM: string, LF: string, LM: string, LS: string, LW: string, LWB: string, Preferred Positions: string, RAM: string, RB: string, RCB: string, RCM: string, RDM: string, RF: string, RM: string, RS: string, RW: string, RWB: string, ST: string]"
      ]
     },
     "execution_count": 27,
     "metadata": {},
     "output_type": "execute_result"
    }
   ],
   "source": [
    "fifa_df.createOrReplaceTempView('fifa_table_temp') \n",
    "fifa_germany = spark.sql('select * from fifa_table_temp where Nationality=\"Germany\"')\n",
    "fifa_germany.describe()\n"
   ]
  },
  {
   "cell_type": "markdown",
   "metadata": {},
   "source": [
    "### Data Visualization"
   ]
  },
  {
   "cell_type": "code",
   "execution_count": 28,
   "metadata": {},
   "outputs": [
    {
     "data": {
      "text/plain": [
       "<matplotlib.axes._subplots.AxesSubplot at 0x2a2b25bd088>"
      ]
     },
     "execution_count": 28,
     "metadata": {},
     "output_type": "execute_result"
    },
    {
     "data": {
      "image/png": "[encoded data removed]",
      "text/plain": [
       "<Figure size 432x288 with 1 Axes>"
      ]
     },
     "metadata": {
      "needs_background": "light"
     },
     "output_type": "display_data"
    }
   ],
   "source": [
    "fifa_germany_age = fifa_germany.selectExpr('age') \n",
    "fifa_table_pandas = fifa_germany_age.toPandas()\n",
    "fifa_table_pandas.plot(kind='density',color='magenta')"
   ]
  },
  {
   "cell_type": "markdown",
   "metadata": {},
   "source": [
    "### PySpark Machine Learning using <b>MLLIB</b>"
   ]
  },
  {
   "cell_type": "code",
   "execution_count": 29,
   "metadata": {},
   "outputs": [
    {
     "name": "stdout",
     "output_type": "stream",
     "text": [
      "Mean Squared Error of the model for the test data = 1.36\n"
     ]
    }
   ],
   "source": [
    "data = sc.textFile('ratings.csv')\n",
    "# Split the RDD \n",
    "ratings = data.map(lambda l: l.split(','))\n",
    "\n",
    "# Transform the ratings RDD \n",
    "ratings_final = ratings.map(lambda line: Rating(int(line[0]), int(line[1]), float(line[2])))\n",
    "\n",
    "# Split the data into training and test\n",
    "training_data, test_data = ratings_final.randomSplit([0.8, 0.2])\n",
    "\n",
    "# Create the ALS model on the training data\n",
    "model = ALS.train(training_data, rank=10, iterations=10)\n",
    "\n",
    "\n",
    "# Split the data into training and test\n",
    "training_data, test_data = ratings_final.randomSplit([0.8, 0.2])\n",
    "\n",
    "# Create the ALS model on the training data\n",
    "model = ALS.train(training_data, rank=10, iterations=10)\n",
    "\n",
    "# Drop the ratings column \n",
    "testdata_no_rating = test_data.map(lambda p: (p[0], p[1]))\n",
    "\n",
    "# Predict the model  \n",
    "predictions = model.predictAll(testdata_no_rating)\n",
    "\n",
    "# Print the first rows of the RDD\n",
    "predictions.take(2)\n",
    "\n",
    "# Prepare ratings data\n",
    "rates = ratings_final.map(lambda r: ((r[0], r[1]), r[2]))\n",
    "\n",
    "# Prepare predictions data\n",
    "preds = predictions.map(lambda r: ((r[0], r[1]), r[2]))\n",
    "\n",
    "# Join the ratings data with predictions data\n",
    "rates_and_preds = rates.join(preds)\n",
    "\n",
    "# Calculate and print MSE\n",
    "MSE = rates_and_preds.map(lambda r: (r[1][0] - r[1][1])**2).mean()\n",
    "print(\"Mean Squared Error of the model for the test data = {:.2f}\".format(MSE))\n",
    "\n"
   ]
  }
 ],
 "metadata": {
  "kernelspec": {
   "display_name": "Python 3",
   "language": "python",
   "name": "python3"
  },
  "language_info": {
   "codemirror_mode": {
    "name": "ipython",
    "version": 3
   },
   "file_extension": ".py",
   "mimetype": "text/x-python",
   "name": "python",
   "nbconvert_exporter": "python",
   "pygments_lexer": "ipython3",
   "version": "3.7.6"
  }
 },
 "nbformat": 4,
 "nbformat_minor": 4
}
